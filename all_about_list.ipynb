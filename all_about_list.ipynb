{
  "nbformat": 4,
  "nbformat_minor": 0,
  "metadata": {
    "colab": {
      "name": "all about list.ipynb",
      "provenance": [],
      "collapsed_sections": [
        "4n_y_1QGRzb2",
        "Yu0gI4fHTOWi",
        "F8k3xXJST5yC",
        "BH2yjPurX_kN",
        "btoVXmbmYsAz",
        "ZiPB6Jfj9RdK",
        "QXcuJKvDd5nb",
        "JaOssg0jerl7",
        "yKJtoDPmhKMT",
        "rsjHJ0atuC6p",
        "KvsaanXQvOmY",
        "UUjVibThxZ6a",
        "sqsv5-StyRjE",
        "aOml4MzYFqMR",
        "hNPobOwvGgiD",
        "kij6rk_MHx6b",
        "ZXMpVqnNJEZ8",
        "0Tv5QL4e__40"
      ]
    },
    "kernelspec": {
      "name": "python3",
      "display_name": "Python 3"
    },
    "language_info": {
      "name": "python"
    }
  },
  "cells": [
    {
      "cell_type": "markdown",
      "source": [
        "#why we need List"
      ],
      "metadata": {
        "id": "mxM1_vfxP4ae"
      }
    },
    {
      "cell_type": "markdown",
      "source": [
        "What are Python lists good for?\n",
        "Lists are great to use when you want to work with many related values. They enable you to keep data together that belongs together, condense your code, and perform the same methods and operations on multiple values at once"
      ],
      "metadata": {
        "id": "Xdc2aH2nt7yr"
      }
    },
    {
      "cell_type": "code",
      "source": [
        "sea_creatures = ['shark', 'cuttlefish', 'squid', 'mantis shrimp', 'anemone']"
      ],
      "metadata": {
        "id": "fhOtIjv8uwoU"
      },
      "execution_count": null,
      "outputs": []
    },
    {
      "cell_type": "code",
      "source": [
        "print(sea_creatures)"
      ],
      "metadata": {
        "colab": {
          "base_uri": "https://localhost:8080/"
        },
        "id": "SS-pUlJ2uy9o",
        "outputId": "894754e2-d1eb-4ac8-adcd-0688aa8f632a"
      },
      "execution_count": null,
      "outputs": [
        {
          "output_type": "stream",
          "name": "stdout",
          "text": [
            "['shark', 'cuttlefish', 'squid', 'mantis shrimp', 'anemone']\n"
          ]
        }
      ]
    },
    {
      "cell_type": "code",
      "source": [
        ""
      ],
      "metadata": {
        "id": "9aLbji8auzGn"
      },
      "execution_count": null,
      "outputs": []
    },
    {
      "cell_type": "markdown",
      "source": [
        "#List"
      ],
      "metadata": {
        "id": "wDIqIqEgu5Fy"
      }
    },
    {
      "cell_type": "code",
      "execution_count": null,
      "metadata": {
        "id": "16AkJGgIMGLr"
      },
      "outputs": [],
      "source": [
        "li = ['Python', 1, 2, 'List', 'spam', ['cat','bird'], 3.133, \n",
        "      'AI', 'Heloo', 'spam',{54,90,9}, (1,2,3), False]"
      ]
    },
    {
      "cell_type": "code",
      "source": [
        "type(li)"
      ],
      "metadata": {
        "colab": {
          "base_uri": "https://localhost:8080/"
        },
        "id": "eHKBNQh-OmaE",
        "outputId": "eb9df350-96da-489c-f15f-fbe106f9bce3"
      },
      "execution_count": null,
      "outputs": [
        {
          "output_type": "execute_result",
          "data": {
            "text/plain": [
              "list"
            ]
          },
          "metadata": {},
          "execution_count": 224
        }
      ]
    },
    {
      "cell_type": "markdown",
      "source": [
        "The First value in the list is at index 0\n",
        "\n",
        "second value at index 1\n",
        "\n",
        "third value at index 2 and so on\n",
        "\n",
        "\n",
        "\n",
        "\n"
      ],
      "metadata": {
        "id": "3URBUeWbPxPK"
      }
    },
    {
      "cell_type": "code",
      "source": [
        "li[0]"
      ],
      "metadata": {
        "colab": {
          "base_uri": "https://localhost:8080/",
          "height": 36
        },
        "id": "Ga6rMK8GOvwj",
        "outputId": "fd3312f4-5fd5-4981-dbb2-585205babcc1"
      },
      "execution_count": null,
      "outputs": [
        {
          "output_type": "execute_result",
          "data": {
            "text/plain": [
              "'Python'"
            ],
            "application/vnd.google.colaboratory.intrinsic+json": {
              "type": "string"
            }
          },
          "metadata": {},
          "execution_count": 225
        }
      ]
    },
    {
      "cell_type": "code",
      "source": [
        "li[-1] #Negative indexes"
      ],
      "metadata": {
        "colab": {
          "base_uri": "https://localhost:8080/"
        },
        "id": "8i9_Wj95QUwd",
        "outputId": "4ec1fd56-9551-4189-84b9-e381c2a727d5"
      },
      "execution_count": null,
      "outputs": [
        {
          "output_type": "execute_result",
          "data": {
            "text/plain": [
              "False"
            ]
          },
          "metadata": {},
          "execution_count": 226
        }
      ]
    },
    {
      "cell_type": "code",
      "source": [
        "li[6]"
      ],
      "metadata": {
        "colab": {
          "base_uri": "https://localhost:8080/"
        },
        "id": "NwGBxnNnQVk5",
        "outputId": "33a0f00b-5897-4c1e-b8a9-2bacb3771564"
      },
      "execution_count": null,
      "outputs": [
        {
          "output_type": "execute_result",
          "data": {
            "text/plain": [
              "3.133"
            ]
          },
          "metadata": {},
          "execution_count": 227
        }
      ]
    },
    {
      "cell_type": "code",
      "source": [
        "type(li[6])"
      ],
      "metadata": {
        "colab": {
          "base_uri": "https://localhost:8080/"
        },
        "id": "ZL1FO5lwQXgy",
        "outputId": "04a28215-1983-40e6-e572-84e96e8f3914"
      },
      "execution_count": null,
      "outputs": [
        {
          "output_type": "execute_result",
          "data": {
            "text/plain": [
              "float"
            ]
          },
          "metadata": {},
          "execution_count": 228
        }
      ]
    },
    {
      "cell_type": "code",
      "source": [
        "'Hello '+ li[0]"
      ],
      "metadata": {
        "colab": {
          "base_uri": "https://localhost:8080/",
          "height": 36
        },
        "id": "Sv4-76FOQkwR",
        "outputId": "262de8c8-78e6-49cf-a622-1485f4d2d8e1"
      },
      "execution_count": null,
      "outputs": [
        {
          "output_type": "execute_result",
          "data": {
            "text/plain": [
              "'Hello Python'"
            ],
            "application/vnd.google.colaboratory.intrinsic+json": {
              "type": "string"
            }
          },
          "metadata": {},
          "execution_count": 229
        }
      ]
    },
    {
      "cell_type": "code",
      "source": [
        "len(li) #how many element in list"
      ],
      "metadata": {
        "colab": {
          "base_uri": "https://localhost:8080/"
        },
        "id": "MNxRaBj5Q_i8",
        "outputId": "9d1f25b3-0071-4329-bf9d-5b2bd1d93db4"
      },
      "execution_count": null,
      "outputs": [
        {
          "output_type": "execute_result",
          "data": {
            "text/plain": [
              "13"
            ]
          },
          "metadata": {},
          "execution_count": 230
        }
      ]
    },
    {
      "cell_type": "markdown",
      "source": [
        "#Getting Sublist with slices"
      ],
      "metadata": {
        "id": "4n_y_1QGRzb2"
      }
    },
    {
      "cell_type": "markdown",
      "source": [
        "Just an index can get a single value from a list\n",
        "\n",
        " a slice can get several values from a list"
      ],
      "metadata": {
        "id": "1IGsaABwSL_Y"
      }
    },
    {
      "cell_type": "code",
      "source": [
        "li[1:4] # a list with a slice # 1,2,3 indices"
      ],
      "metadata": {
        "colab": {
          "base_uri": "https://localhost:8080/"
        },
        "id": "3NK9aO8lRjxK",
        "outputId": "af9ab19f-7e93-46ec-8ec0-c01b29646eb7"
      },
      "execution_count": null,
      "outputs": [
        {
          "output_type": "execute_result",
          "data": {
            "text/plain": [
              "[1, 2, 'List']"
            ]
          },
          "metadata": {},
          "execution_count": 231
        }
      ]
    },
    {
      "cell_type": "code",
      "source": [
        "li[:2]  # 0, 1 indices"
      ],
      "metadata": {
        "colab": {
          "base_uri": "https://localhost:8080/"
        },
        "id": "-n6vRUw3SRAY",
        "outputId": "346b6ca2-a102-47bd-c956-87a6eb94c951"
      },
      "execution_count": null,
      "outputs": [
        {
          "output_type": "execute_result",
          "data": {
            "text/plain": [
              "['Python', 1]"
            ]
          },
          "metadata": {},
          "execution_count": 232
        }
      ]
    },
    {
      "cell_type": "code",
      "source": [
        "li[7:] #7,8,9 indices"
      ],
      "metadata": {
        "colab": {
          "base_uri": "https://localhost:8080/"
        },
        "id": "GKQiCgWJSstN",
        "outputId": "c51ffa95-55fd-4c78-87c7-4a5701cac9b5"
      },
      "execution_count": null,
      "outputs": [
        {
          "output_type": "execute_result",
          "data": {
            "text/plain": [
              "['AI', 'Heloo', 'spam', {9, 54, 90}, (1, 2, 3), False]"
            ]
          },
          "metadata": {},
          "execution_count": 233
        }
      ]
    },
    {
      "cell_type": "code",
      "source": [
        "li[:]"
      ],
      "metadata": {
        "colab": {
          "base_uri": "https://localhost:8080/"
        },
        "id": "7aGbwxZrS0b6",
        "outputId": "c3b31cf2-ffa7-4225-9c23-0634d408bcc4"
      },
      "execution_count": null,
      "outputs": [
        {
          "output_type": "execute_result",
          "data": {
            "text/plain": [
              "['Python',\n",
              " 1,\n",
              " 2,\n",
              " 'List',\n",
              " 'spam',\n",
              " ['cat', 'bird'],\n",
              " 3.133,\n",
              " 'AI',\n",
              " 'Heloo',\n",
              " 'spam',\n",
              " {9, 54, 90},\n",
              " (1, 2, 3),\n",
              " False]"
            ]
          },
          "metadata": {},
          "execution_count": 234
        }
      ]
    },
    {
      "cell_type": "code",
      "source": [
        "li"
      ],
      "metadata": {
        "colab": {
          "base_uri": "https://localhost:8080/"
        },
        "id": "mH0jd_WlTBaR",
        "outputId": "cd0c7c37-afc5-43b1-9f7a-49d05a4f69e0"
      },
      "execution_count": null,
      "outputs": [
        {
          "output_type": "execute_result",
          "data": {
            "text/plain": [
              "['Python',\n",
              " 1,\n",
              " 2,\n",
              " 'List',\n",
              " 'spam',\n",
              " ['cat', 'bird'],\n",
              " 3.133,\n",
              " 'AI',\n",
              " 'Heloo',\n",
              " 'spam',\n",
              " {9, 54, 90},\n",
              " (1, 2, 3),\n",
              " False]"
            ]
          },
          "metadata": {},
          "execution_count": 235
        }
      ]
    },
    {
      "cell_type": "markdown",
      "source": [
        "#Changing Values in a list with indexes"
      ],
      "metadata": {
        "id": "Yu0gI4fHTOWi"
      }
    },
    {
      "cell_type": "code",
      "source": [
        "li[1]"
      ],
      "metadata": {
        "colab": {
          "base_uri": "https://localhost:8080/"
        },
        "id": "QvuzxGGtTHbp",
        "outputId": "8eee8e2a-e6c9-4647-cd90-1e8aa22d44a7"
      },
      "execution_count": null,
      "outputs": [
        {
          "output_type": "execute_result",
          "data": {
            "text/plain": [
              "1"
            ]
          },
          "metadata": {},
          "execution_count": 236
        }
      ]
    },
    {
      "cell_type": "code",
      "source": [
        "li[1] = 'ML'"
      ],
      "metadata": {
        "id": "l0trx7cgTkP6"
      },
      "execution_count": null,
      "outputs": []
    },
    {
      "cell_type": "code",
      "source": [
        "li"
      ],
      "metadata": {
        "colab": {
          "base_uri": "https://localhost:8080/"
        },
        "id": "AcvVkBO4TnDJ",
        "outputId": "c2814d74-0d69-4525-b53e-b8b8fa8e0770"
      },
      "execution_count": null,
      "outputs": [
        {
          "output_type": "execute_result",
          "data": {
            "text/plain": [
              "['Python',\n",
              " 'ML',\n",
              " 2,\n",
              " 'List',\n",
              " 'spam',\n",
              " ['cat', 'bird'],\n",
              " 3.133,\n",
              " 'AI',\n",
              " 'Heloo',\n",
              " 'spam',\n",
              " {9, 54, 90},\n",
              " (1, 2, 3),\n",
              " False]"
            ]
          },
          "metadata": {},
          "execution_count": 238
        }
      ]
    },
    {
      "cell_type": "markdown",
      "source": [
        "#List Concatenation and list Replication"
      ],
      "metadata": {
        "id": "F8k3xXJST5yC"
      }
    },
    {
      "cell_type": "markdown",
      "source": [
        "The +  operator can combine two lists to create a new list\n",
        "\n",
        "The *  operator is used witha a list and an integer value to replicate the list"
      ],
      "metadata": {
        "id": "muY_suFQUZLg"
      }
    },
    {
      "cell_type": "code",
      "source": [
        "li1 = [1,2,3,'ai']\n",
        "li2 = ['a','b','c']"
      ],
      "metadata": {
        "id": "eMHlZgyDTpWR"
      },
      "execution_count": null,
      "outputs": []
    },
    {
      "cell_type": "code",
      "source": [
        "li3 = li1+li2"
      ],
      "metadata": {
        "id": "c_EsOG5ZU1vi"
      },
      "execution_count": null,
      "outputs": []
    },
    {
      "cell_type": "code",
      "source": [
        "li3"
      ],
      "metadata": {
        "colab": {
          "base_uri": "https://localhost:8080/"
        },
        "id": "zlEV-JCqU4e4",
        "outputId": "669c2338-ea9d-4bba-d03f-2a5059a36d73"
      },
      "execution_count": null,
      "outputs": [
        {
          "output_type": "execute_result",
          "data": {
            "text/plain": [
              "[1, 2, 3, 'ai', 'a', 'b', 'c']"
            ]
          },
          "metadata": {},
          "execution_count": 241
        }
      ]
    },
    {
      "cell_type": "code",
      "source": [
        "li4 = li1 * 2"
      ],
      "metadata": {
        "id": "63MQaB4XU52Q"
      },
      "execution_count": null,
      "outputs": []
    },
    {
      "cell_type": "code",
      "source": [
        "li4"
      ],
      "metadata": {
        "colab": {
          "base_uri": "https://localhost:8080/"
        },
        "id": "U8wOL_4jVCyh",
        "outputId": "76e64dbc-4de2-45ec-af92-7097bbd3267a"
      },
      "execution_count": null,
      "outputs": [
        {
          "output_type": "execute_result",
          "data": {
            "text/plain": [
              "[1, 2, 3, 'ai', 1, 2, 3, 'ai']"
            ]
          },
          "metadata": {},
          "execution_count": 243
        }
      ]
    },
    {
      "cell_type": "markdown",
      "source": [
        "#Removing values from Lists with del statement"
      ],
      "metadata": {
        "id": "BH2yjPurX_kN"
      }
    },
    {
      "cell_type": "code",
      "source": [
        "li"
      ],
      "metadata": {
        "colab": {
          "base_uri": "https://localhost:8080/"
        },
        "id": "5Qx3y_LgVE1Z",
        "outputId": "7100813a-dd63-4587-9270-82cb76b81688"
      },
      "execution_count": null,
      "outputs": [
        {
          "output_type": "execute_result",
          "data": {
            "text/plain": [
              "['Python',\n",
              " 'ML',\n",
              " 2,\n",
              " 'List',\n",
              " 'spam',\n",
              " ['cat', 'bird'],\n",
              " 3.133,\n",
              " 'AI',\n",
              " 'Heloo',\n",
              " 'spam',\n",
              " {9, 54, 90},\n",
              " (1, 2, 3),\n",
              " False]"
            ]
          },
          "metadata": {},
          "execution_count": 244
        }
      ]
    },
    {
      "cell_type": "code",
      "source": [
        "del li[3]"
      ],
      "metadata": {
        "id": "8k0C1kT9YPhB"
      },
      "execution_count": null,
      "outputs": []
    },
    {
      "cell_type": "code",
      "source": [
        "li"
      ],
      "metadata": {
        "colab": {
          "base_uri": "https://localhost:8080/"
        },
        "id": "V-Hv35omYRpZ",
        "outputId": "70896213-63ce-48fa-c284-d657063b0438"
      },
      "execution_count": null,
      "outputs": [
        {
          "output_type": "execute_result",
          "data": {
            "text/plain": [
              "['Python',\n",
              " 'ML',\n",
              " 2,\n",
              " 'spam',\n",
              " ['cat', 'bird'],\n",
              " 3.133,\n",
              " 'AI',\n",
              " 'Heloo',\n",
              " 'spam',\n",
              " {9, 54, 90},\n",
              " (1, 2, 3),\n",
              " False]"
            ]
          },
          "metadata": {},
          "execution_count": 246
        }
      ]
    },
    {
      "cell_type": "markdown",
      "source": [
        "#create a List with loops"
      ],
      "metadata": {
        "id": "btoVXmbmYsAz"
      }
    },
    {
      "cell_type": "code",
      "source": [
        "catNames = [] #Zophie,pooka,Simon,Fat-Tail\n",
        "while True:\n",
        "    print('Enter the names of cat: ' + str(len(catNames) + 1) + ' (Or enter nothing to stop)')\n",
        "    \n",
        "    name = input()\n",
        "    if name == '':\n",
        "        break\n",
        "    catNames.append(name)\n",
        "    #catNames += [name]\n",
        "\n",
        "print('The cat names are : ', catNames)"
      ],
      "metadata": {
        "colab": {
          "base_uri": "https://localhost:8080/"
        },
        "id": "WEyXrFR4YSbZ",
        "outputId": "e1b54540-2f24-4130-8bde-29390a48f7a3"
      },
      "execution_count": null,
      "outputs": [
        {
          "output_type": "stream",
          "name": "stdout",
          "text": [
            "Enter the names of cat: 1 (Or enter nothing to stop)\n",
            "aa\n",
            "Enter the names of cat: 2 (Or enter nothing to stop)\n",
            "\n",
            "The cat names are :  ['aa']\n"
          ]
        }
      ]
    },
    {
      "cell_type": "code",
      "source": [
        "for name in catNames:\n",
        "    print(name)"
      ],
      "metadata": {
        "colab": {
          "base_uri": "https://localhost:8080/"
        },
        "id": "UJOq22ZAaTIx",
        "outputId": "d32bfe0d-f5c8-4616-ca92-2d904866d2da"
      },
      "execution_count": null,
      "outputs": [
        {
          "output_type": "stream",
          "name": "stdout",
          "text": [
            "aa\n"
          ]
        }
      ]
    },
    {
      "cell_type": "code",
      "source": [
        "for i in range(len(catNames)):\n",
        "    print(catNames[i])"
      ],
      "metadata": {
        "colab": {
          "base_uri": "https://localhost:8080/"
        },
        "id": "6U3qPFG8cz4p",
        "outputId": "63dce9d4-fc0b-4b3e-9b92-76c5e05430d5"
      },
      "execution_count": null,
      "outputs": [
        {
          "output_type": "stream",
          "name": "stdout",
          "text": [
            "aa\n"
          ]
        }
      ]
    },
    {
      "cell_type": "markdown",
      "source": [
        "#enumerate() function"
      ],
      "metadata": {
        "id": "ZiPB6Jfj9RdK"
      }
    },
    {
      "cell_type": "markdown",
      "source": [
        "if you wanted to know the index of an element while going through the list, you can just use enumerate(), cz that's the easy way\n",
        "\n"
      ],
      "metadata": {
        "id": "uwniP-Q39VQ0"
      }
    },
    {
      "cell_type": "code",
      "source": [
        "fruits = ['apple', 'orange','mango', 'blueberry']\n",
        "for index, fruit in enumerate(fruits):\n",
        "    print('{} ---- {}'.format(index+1,fruit))"
      ],
      "metadata": {
        "colab": {
          "base_uri": "https://localhost:8080/"
        },
        "id": "GJRmGiNA9RAJ",
        "outputId": "6edd5727-f020-4480-b0f4-e1aff29182e8"
      },
      "execution_count": null,
      "outputs": [
        {
          "output_type": "stream",
          "name": "stdout",
          "text": [
            "1 ---- apple\n",
            "2 ---- orange\n",
            "3 ---- mango\n",
            "4 ---- blueberry\n"
          ]
        }
      ]
    },
    {
      "cell_type": "markdown",
      "source": [
        "The enumerate() returns a tuple for each element in the list\n",
        "\n",
        "here, 1st value in the tuple is the index, second value in the tuple is the element"
      ],
      "metadata": {
        "id": "Xuy6jHhS-su6"
      }
    },
    {
      "cell_type": "code",
      "source": [
        ""
      ],
      "metadata": {
        "id": "A5bVK44y9dSE"
      },
      "execution_count": null,
      "outputs": []
    },
    {
      "cell_type": "code",
      "source": [
        ""
      ],
      "metadata": {
        "id": "KVPJEQVv9dWf"
      },
      "execution_count": null,
      "outputs": []
    },
    {
      "cell_type": "code",
      "source": [
        ""
      ],
      "metadata": {
        "id": "ajcOXeZV9dZp"
      },
      "execution_count": null,
      "outputs": []
    },
    {
      "cell_type": "markdown",
      "source": [
        "#The in and not in operator"
      ],
      "metadata": {
        "id": "QXcuJKvDd5nb"
      }
    },
    {
      "cell_type": "code",
      "source": [
        "li\n"
      ],
      "metadata": {
        "colab": {
          "base_uri": "https://localhost:8080/"
        },
        "id": "fQheKZzcd0qg",
        "outputId": "84901390-564a-4e30-9168-696a312886e6"
      },
      "execution_count": null,
      "outputs": [
        {
          "output_type": "execute_result",
          "data": {
            "text/plain": [
              "['Python',\n",
              " 'ML',\n",
              " 2,\n",
              " 'spam',\n",
              " ['cat', 'bird'],\n",
              " 3.133,\n",
              " 'AI',\n",
              " 'Heloo',\n",
              " 'spam',\n",
              " {9, 54, 90},\n",
              " (1, 2, 3),\n",
              " False]"
            ]
          },
          "metadata": {},
          "execution_count": 251
        }
      ]
    },
    {
      "cell_type": "code",
      "source": [
        "False in li"
      ],
      "metadata": {
        "colab": {
          "base_uri": "https://localhost:8080/"
        },
        "id": "XtyR41CieMNB",
        "outputId": "8fb3fa89-e630-4f03-e836-6087ba8fbf5b"
      },
      "execution_count": null,
      "outputs": [
        {
          "output_type": "execute_result",
          "data": {
            "text/plain": [
              "True"
            ]
          },
          "metadata": {},
          "execution_count": 252
        }
      ]
    },
    {
      "cell_type": "code",
      "source": [
        "3.133 in li"
      ],
      "metadata": {
        "colab": {
          "base_uri": "https://localhost:8080/"
        },
        "id": "U7sv2jGwePpr",
        "outputId": "4e03520a-6c5b-4fa1-d8a0-49ba09d47cf1"
      },
      "execution_count": null,
      "outputs": [
        {
          "output_type": "execute_result",
          "data": {
            "text/plain": [
              "True"
            ]
          },
          "metadata": {},
          "execution_count": 253
        }
      ]
    },
    {
      "cell_type": "code",
      "source": [
        "'List' in li"
      ],
      "metadata": {
        "colab": {
          "base_uri": "https://localhost:8080/"
        },
        "id": "sB0rljaQeS-Q",
        "outputId": "3e6b5069-698e-4747-d90b-ff76aa7fac7e"
      },
      "execution_count": null,
      "outputs": [
        {
          "output_type": "execute_result",
          "data": {
            "text/plain": [
              "False"
            ]
          },
          "metadata": {},
          "execution_count": 254
        }
      ]
    },
    {
      "cell_type": "code",
      "source": [
        "'List' not in li"
      ],
      "metadata": {
        "colab": {
          "base_uri": "https://localhost:8080/"
        },
        "id": "d3Lo6F7HeWhZ",
        "outputId": "98ceaf2d-4fe8-4467-8592-ebdca0f16934"
      },
      "execution_count": null,
      "outputs": [
        {
          "output_type": "execute_result",
          "data": {
            "text/plain": [
              "True"
            ]
          },
          "metadata": {},
          "execution_count": 255
        }
      ]
    },
    {
      "cell_type": "markdown",
      "source": [
        "#Multiple Assignment Trick"
      ],
      "metadata": {
        "id": "JaOssg0jerl7"
      }
    },
    {
      "cell_type": "markdown",
      "source": [
        "The multiple assignment trick is a shortcut that lets yu assign multiple variables with the values in a list in one lide of code."
      ],
      "metadata": {
        "id": "Weptx3XlewJF"
      }
    },
    {
      "cell_type": "code",
      "source": [
        "cat = ['fat','black','disposition']\n",
        "size = cat[0]\n",
        "color = cat[1]\n",
        "disposition = cat[2] \n",
        "\n",
        "# we used to do this"
      ],
      "metadata": {
        "id": "BH6ujjFHeaOo"
      },
      "execution_count": null,
      "outputs": []
    },
    {
      "cell_type": "code",
      "source": [
        "# this is easier\n",
        "cat = ['fat','black','disposition']\n",
        "size, color, disposition = cat\n"
      ],
      "metadata": {
        "id": "Qfk_qaB-fwbM"
      },
      "execution_count": null,
      "outputs": []
    },
    {
      "cell_type": "code",
      "source": [
        ""
      ],
      "metadata": {
        "id": "DQqhrZ9Vg9yx"
      },
      "execution_count": null,
      "outputs": []
    },
    {
      "cell_type": "code",
      "source": [
        ""
      ],
      "metadata": {
        "id": "AwZtZvyqhIEw"
      },
      "execution_count": null,
      "outputs": []
    },
    {
      "cell_type": "markdown",
      "source": [
        "#Methods\n"
      ],
      "metadata": {
        "id": "yKJtoDPmhKMT"
      }
    },
    {
      "cell_type": "markdown",
      "source": [
        "A method is the same thing as a function, except it is called on a value.\n",
        "\n",
        "The mathod part comes after the value, separeted by a period.\n",
        "\n",
        "The list data type, for example has several methods for finding, adding, removing, and otherwise manipulating values in a list"
      ],
      "metadata": {
        "id": "NpQ7CofWi6Rz"
      }
    },
    {
      "cell_type": "markdown",
      "source": [
        "#Finding a value in a list with the index() method"
      ],
      "metadata": {
        "id": "rsjHJ0atuC6p"
      }
    },
    {
      "cell_type": "code",
      "source": [
        "li\n"
      ],
      "metadata": {
        "colab": {
          "base_uri": "https://localhost:8080/"
        },
        "id": "0AlkQQShhOdw",
        "outputId": "c200d21e-9901-4ac8-f233-d614e6cb22c2"
      },
      "execution_count": null,
      "outputs": [
        {
          "output_type": "execute_result",
          "data": {
            "text/plain": [
              "['Python',\n",
              " 'ML',\n",
              " 2,\n",
              " 'spam',\n",
              " ['cat', 'bird'],\n",
              " 3.133,\n",
              " 'AI',\n",
              " 'Heloo',\n",
              " 'spam',\n",
              " {9, 54, 90},\n",
              " (1, 2, 3),\n",
              " False]"
            ]
          },
          "metadata": {},
          "execution_count": 258
        }
      ]
    },
    {
      "cell_type": "code",
      "source": [
        "li.index('spam') # index of 1st appearance "
      ],
      "metadata": {
        "colab": {
          "base_uri": "https://localhost:8080/"
        },
        "id": "1ZY8OkTDuO1u",
        "outputId": "cd4ea4bb-dd56-4c49-e7a6-0f3578db88a2"
      },
      "execution_count": null,
      "outputs": [
        {
          "output_type": "execute_result",
          "data": {
            "text/plain": [
              "3"
            ]
          },
          "metadata": {},
          "execution_count": 259
        }
      ]
    },
    {
      "cell_type": "code",
      "source": [
        ""
      ],
      "metadata": {
        "id": "lAQUVqxbuZXn"
      },
      "execution_count": null,
      "outputs": []
    },
    {
      "cell_type": "markdown",
      "source": [
        "#Adding values to Lists with  append() and insert() methods"
      ],
      "metadata": {
        "id": "KvsaanXQvOmY"
      }
    },
    {
      "cell_type": "markdown",
      "source": [
        "append() method adds the elemnt to the end of the list"
      ],
      "metadata": {
        "id": "KuhiWKhhwB35"
      }
    },
    {
      "cell_type": "code",
      "source": [
        "spam = ['cat','cow','lion', 'goat']\n",
        "spam.append('tiger')"
      ],
      "metadata": {
        "id": "yfZCR7SFvWVX"
      },
      "execution_count": null,
      "outputs": []
    },
    {
      "cell_type": "code",
      "source": [
        "spam"
      ],
      "metadata": {
        "colab": {
          "base_uri": "https://localhost:8080/"
        },
        "id": "RMWos2oYvxsb",
        "outputId": "86c1c4f1-937a-447f-ebbe-3e8e38200c8e"
      },
      "execution_count": null,
      "outputs": [
        {
          "output_type": "execute_result",
          "data": {
            "text/plain": [
              "['cat', 'cow', 'lion', 'goat', 'tiger']"
            ]
          },
          "metadata": {},
          "execution_count": 261
        }
      ]
    },
    {
      "cell_type": "markdown",
      "source": [
        "insert() method insert a value at any index in the list"
      ],
      "metadata": {
        "id": "rlp70acewOIQ"
      }
    },
    {
      "cell_type": "code",
      "source": [
        "spam.insert(2, 'horse') # at index 2"
      ],
      "metadata": {
        "id": "nc791u-zv2-g"
      },
      "execution_count": null,
      "outputs": []
    },
    {
      "cell_type": "code",
      "source": [
        "spam"
      ],
      "metadata": {
        "colab": {
          "base_uri": "https://localhost:8080/"
        },
        "id": "0NkoP4wTwmG9",
        "outputId": "2c8a7e47-c050-4e63-80a1-d0c6c9d76580"
      },
      "execution_count": null,
      "outputs": [
        {
          "output_type": "execute_result",
          "data": {
            "text/plain": [
              "['cat', 'cow', 'horse', 'lion', 'goat', 'tiger']"
            ]
          },
          "metadata": {},
          "execution_count": 263
        }
      ]
    },
    {
      "cell_type": "markdown",
      "source": [
        "append() and insert() can be called only on list values"
      ],
      "metadata": {
        "id": "U0qgAfYBxNHT"
      }
    },
    {
      "cell_type": "code",
      "source": [
        ""
      ],
      "metadata": {
        "id": "97b4xvTMwnMf"
      },
      "execution_count": null,
      "outputs": []
    },
    {
      "cell_type": "markdown",
      "source": [
        "#removing values from Lists with remove()"
      ],
      "metadata": {
        "id": "UUjVibThxZ6a"
      }
    },
    {
      "cell_type": "markdown",
      "source": [
        ""
      ],
      "metadata": {
        "id": "tPveVO3Pxkro"
      }
    },
    {
      "cell_type": "code",
      "source": [
        "spam"
      ],
      "metadata": {
        "colab": {
          "base_uri": "https://localhost:8080/"
        },
        "id": "-8Wtcx2Pxexm",
        "outputId": "63faeb91-3439-4838-93d2-70c0da28947b"
      },
      "execution_count": null,
      "outputs": [
        {
          "output_type": "execute_result",
          "data": {
            "text/plain": [
              "['cat', 'cow', 'horse', 'lion', 'goat', 'tiger']"
            ]
          },
          "metadata": {},
          "execution_count": 264
        }
      ]
    },
    {
      "cell_type": "code",
      "source": [
        "spam.remove('lion')"
      ],
      "metadata": {
        "id": "kxtry9ZIxqGX"
      },
      "execution_count": null,
      "outputs": []
    },
    {
      "cell_type": "code",
      "source": [
        "spam"
      ],
      "metadata": {
        "colab": {
          "base_uri": "https://localhost:8080/"
        },
        "id": "LKO0Dt77xuV2",
        "outputId": "69155bc5-8525-4ec8-e7d2-b10c5579b4e5"
      },
      "execution_count": null,
      "outputs": [
        {
          "output_type": "execute_result",
          "data": {
            "text/plain": [
              "['cat', 'cow', 'horse', 'goat', 'tiger']"
            ]
          },
          "metadata": {},
          "execution_count": 266
        }
      ]
    },
    {
      "cell_type": "markdown",
      "source": [
        ""
      ],
      "metadata": {
        "id": "AdtZLw_Ex-Wn"
      }
    },
    {
      "cell_type": "markdown",
      "source": [
        "Attempting to delete a va;ue that does not exists in the list will result in a vaueerror"
      ],
      "metadata": {
        "id": "5vXrXeLix-c-"
      }
    },
    {
      "cell_type": "code",
      "source": [
        "spam.remove('bat')"
      ],
      "metadata": {
        "colab": {
          "base_uri": "https://localhost:8080/",
          "height": 172
        },
        "id": "Q_ol2aYtxzmn",
        "outputId": "6b47052c-5262-4a15-996c-a6fc1fa1edf3"
      },
      "execution_count": null,
      "outputs": [
        {
          "output_type": "error",
          "ename": "ValueError",
          "evalue": "ignored",
          "traceback": [
            "\u001b[0;31m---------------------------------------------------------------------------\u001b[0m",
            "\u001b[0;31mValueError\u001b[0m                                Traceback (most recent call last)",
            "\u001b[0;32m<ipython-input-267-77bcc6fd8246>\u001b[0m in \u001b[0;36m<module>\u001b[0;34m()\u001b[0m\n\u001b[0;32m----> 1\u001b[0;31m \u001b[0mspam\u001b[0m\u001b[0;34m.\u001b[0m\u001b[0mremove\u001b[0m\u001b[0;34m(\u001b[0m\u001b[0;34m'bat'\u001b[0m\u001b[0;34m)\u001b[0m\u001b[0;34m\u001b[0m\u001b[0;34m\u001b[0m\u001b[0m\n\u001b[0m",
            "\u001b[0;31mValueError\u001b[0m: list.remove(x): x not in list"
          ]
        }
      ]
    },
    {
      "cell_type": "markdown",
      "source": [
        "Another way , we can remove element by using pop() method, which receives an index"
      ],
      "metadata": {
        "id": "hK8nzQv360ja"
      }
    },
    {
      "cell_type": "code",
      "source": [
        "spam"
      ],
      "metadata": {
        "colab": {
          "base_uri": "https://localhost:8080/"
        },
        "id": "BcX8-EQvyNsO",
        "outputId": "9fe3ab82-9656-4ac0-d676-b87eb3fd60f4"
      },
      "execution_count": null,
      "outputs": [
        {
          "output_type": "execute_result",
          "data": {
            "text/plain": [
              "['cat', 'cow', 'horse', 'goat', 'tiger']"
            ]
          },
          "metadata": {},
          "execution_count": 269
        }
      ]
    },
    {
      "cell_type": "code",
      "source": [
        "spam.pop(3)"
      ],
      "metadata": {
        "colab": {
          "base_uri": "https://localhost:8080/",
          "height": 36
        },
        "id": "CTwvxECT7DSi",
        "outputId": "3d0b736d-77e1-416f-afbf-df750da6da0d"
      },
      "execution_count": null,
      "outputs": [
        {
          "output_type": "execute_result",
          "data": {
            "text/plain": [
              "'goat'"
            ],
            "application/vnd.google.colaboratory.intrinsic+json": {
              "type": "string"
            }
          },
          "metadata": {},
          "execution_count": 270
        }
      ]
    },
    {
      "cell_type": "code",
      "source": [
        "spam"
      ],
      "metadata": {
        "colab": {
          "base_uri": "https://localhost:8080/"
        },
        "id": "uOgTr2Z57FyT",
        "outputId": "1b4612fe-628c-4b5a-a2e2-d30ce8393d28"
      },
      "execution_count": null,
      "outputs": [
        {
          "output_type": "execute_result",
          "data": {
            "text/plain": [
              "['cat', 'cow', 'horse', 'tiger']"
            ]
          },
          "metadata": {},
          "execution_count": 271
        }
      ]
    },
    {
      "cell_type": "markdown",
      "source": [
        "#Sorting the values in a List with the sort() method"
      ],
      "metadata": {
        "id": "sqsv5-StyRjE"
      }
    },
    {
      "cell_type": "code",
      "source": [
        "number = [2,1,33,56,7]"
      ],
      "metadata": {
        "id": "-0tFuZUTyfvV"
      },
      "execution_count": null,
      "outputs": []
    },
    {
      "cell_type": "code",
      "source": [
        "number.sort()"
      ],
      "metadata": {
        "id": "A5RvreTCy2xG"
      },
      "execution_count": null,
      "outputs": []
    },
    {
      "cell_type": "code",
      "source": [
        "number"
      ],
      "metadata": {
        "colab": {
          "base_uri": "https://localhost:8080/"
        },
        "id": "J2G7n21ey9Zi",
        "outputId": "0125acb4-9b19-40da-b1fa-dc9dbf916839"
      },
      "execution_count": null,
      "outputs": [
        {
          "output_type": "execute_result",
          "data": {
            "text/plain": [
              "[1, 2, 7, 33, 56]"
            ]
          },
          "metadata": {},
          "execution_count": 274
        }
      ]
    },
    {
      "cell_type": "code",
      "source": [
        "spam.sort()"
      ],
      "metadata": {
        "id": "U_MSwoONy443"
      },
      "execution_count": null,
      "outputs": []
    },
    {
      "cell_type": "code",
      "source": [
        "spam"
      ],
      "metadata": {
        "colab": {
          "base_uri": "https://localhost:8080/"
        },
        "id": "soZNkHroy8N-",
        "outputId": "91cda3ec-cadc-4339-9462-98c214dc7cc6"
      },
      "execution_count": null,
      "outputs": [
        {
          "output_type": "execute_result",
          "data": {
            "text/plain": [
              "['cat', 'cow', 'horse', 'tiger']"
            ]
          },
          "metadata": {},
          "execution_count": 276
        }
      ]
    },
    {
      "cell_type": "markdown",
      "source": [
        "reverse order  (descending)"
      ],
      "metadata": {
        "id": "M_FIFPQgzz4k"
      }
    },
    {
      "cell_type": "code",
      "source": [
        "\n",
        "number.sort(reverse = True)\n",
        "number"
      ],
      "metadata": {
        "colab": {
          "base_uri": "https://localhost:8080/"
        },
        "id": "8eSR2F6Wy-_V",
        "outputId": "66ed4d1e-6d03-4d53-9b04-9d8ea680d8d4"
      },
      "execution_count": null,
      "outputs": [
        {
          "output_type": "execute_result",
          "data": {
            "text/plain": [
              "[56, 33, 7, 2, 1]"
            ]
          },
          "metadata": {},
          "execution_count": 277
        }
      ]
    },
    {
      "cell_type": "code",
      "source": [
        "spam.sort(reverse = True)\n",
        "spam"
      ],
      "metadata": {
        "colab": {
          "base_uri": "https://localhost:8080/"
        },
        "id": "zITmszJXzrrP",
        "outputId": "cabccef3-46a3-447f-afb6-b66f199fd2bf"
      },
      "execution_count": null,
      "outputs": [
        {
          "output_type": "execute_result",
          "data": {
            "text/plain": [
              "['tiger', 'horse', 'cow', 'cat']"
            ]
          },
          "metadata": {},
          "execution_count": 278
        }
      ]
    },
    {
      "cell_type": "code",
      "source": [
        "list5 = [100,'hi',1,2,'ai'] #  can't compare int and str\n",
        "list5.sort()\n",
        " "
      ],
      "metadata": {
        "colab": {
          "base_uri": "https://localhost:8080/",
          "height": 209
        },
        "id": "S8UdJ1eAzw7m",
        "outputId": "cb0bfdb2-c583-41b1-b0fc-a16525523878"
      },
      "execution_count": null,
      "outputs": [
        {
          "output_type": "error",
          "ename": "TypeError",
          "evalue": "ignored",
          "traceback": [
            "\u001b[0;31m---------------------------------------------------------------------------\u001b[0m",
            "\u001b[0;31mTypeError\u001b[0m                                 Traceback (most recent call last)",
            "\u001b[0;32m<ipython-input-280-a9066dfd66c0>\u001b[0m in \u001b[0;36m<module>\u001b[0;34m()\u001b[0m\n\u001b[1;32m      1\u001b[0m \u001b[0mlist5\u001b[0m \u001b[0;34m=\u001b[0m \u001b[0;34m[\u001b[0m\u001b[0;36m100\u001b[0m\u001b[0;34m,\u001b[0m\u001b[0;34m'hi'\u001b[0m\u001b[0;34m,\u001b[0m\u001b[0;36m1\u001b[0m\u001b[0;34m,\u001b[0m\u001b[0;36m2\u001b[0m\u001b[0;34m,\u001b[0m\u001b[0;34m'ai'\u001b[0m\u001b[0;34m]\u001b[0m \u001b[0;31m#  can't compare int and str\u001b[0m\u001b[0;34m\u001b[0m\u001b[0;34m\u001b[0m\u001b[0m\n\u001b[0;32m----> 2\u001b[0;31m \u001b[0mlist5\u001b[0m\u001b[0;34m.\u001b[0m\u001b[0msort\u001b[0m\u001b[0;34m(\u001b[0m\u001b[0;34m)\u001b[0m\u001b[0;34m\u001b[0m\u001b[0;34m\u001b[0m\u001b[0m\n\u001b[0m\u001b[1;32m      3\u001b[0m \u001b[0;34m\u001b[0m\u001b[0m\n",
            "\u001b[0;31mTypeError\u001b[0m: '<' not supported between instances of 'str' and 'int'"
          ]
        }
      ]
    },
    {
      "cell_type": "markdown",
      "source": [
        "sort() uses ASCIIbetical order\n",
        "\n",
        "uppercase letters come before lowercase lettters\n",
        "\n",
        "But if you need to sort values in regular alphabetical order, then try this"
      ],
      "metadata": {
        "id": "Nn6YLU5tz3Os"
      }
    },
    {
      "cell_type": "code",
      "source": [
        "charecters = ['a','A','t','U']\n",
        "charecters.sort(key=str.lower)\n",
        "charecters\n"
      ],
      "metadata": {
        "colab": {
          "base_uri": "https://localhost:8080/"
        },
        "id": "8i3UzbpC0iKD",
        "outputId": "74b6001e-a0b2-4222-823e-c7d06478ce7e"
      },
      "execution_count": null,
      "outputs": [
        {
          "output_type": "execute_result",
          "data": {
            "text/plain": [
              "['a', 'A', 't', 'U']"
            ]
          },
          "metadata": {},
          "execution_count": 281
        }
      ]
    },
    {
      "cell_type": "markdown",
      "source": [
        "#extend() method"
      ],
      "metadata": {
        "id": "aOml4MzYFqMR"
      }
    },
    {
      "cell_type": "markdown",
      "source": [
        "adding one list into another list"
      ],
      "metadata": {
        "id": "mqmjbfEgGUlv"
      }
    },
    {
      "cell_type": "code",
      "source": [
        "color = ['red','green','blue']\n",
        "number_ = [3,5,4]\n",
        "color.extend(number_) "
      ],
      "metadata": {
        "id": "zpSQCwbC0iMz"
      },
      "execution_count": null,
      "outputs": []
    },
    {
      "cell_type": "code",
      "source": [
        "color"
      ],
      "metadata": {
        "colab": {
          "base_uri": "https://localhost:8080/"
        },
        "id": "AYPzELrtFpOy",
        "outputId": "00257585-8a6c-4ff1-f39f-d0325c6c987e"
      },
      "execution_count": null,
      "outputs": [
        {
          "output_type": "execute_result",
          "data": {
            "text/plain": [
              "['red', 'green', 'blue', 3, 5, 4]"
            ]
          },
          "metadata": {},
          "execution_count": 294
        }
      ]
    },
    {
      "cell_type": "code",
      "source": [
        ""
      ],
      "metadata": {
        "id": "cwMUNk9EFpR9"
      },
      "execution_count": null,
      "outputs": []
    },
    {
      "cell_type": "markdown",
      "source": [
        "#copy() method\n",
        "\n"
      ],
      "metadata": {
        "id": "hNPobOwvGgiD"
      }
    },
    {
      "cell_type": "code",
      "source": [
        "li1"
      ],
      "metadata": {
        "colab": {
          "base_uri": "https://localhost:8080/"
        },
        "id": "-6aa7J26FpUG",
        "outputId": "49fe47b8-21d4-4803-d2fb-c4175244c14a"
      },
      "execution_count": null,
      "outputs": [
        {
          "output_type": "execute_result",
          "data": {
            "text/plain": [
              "[1, 2, 3, 'ai']"
            ]
          },
          "metadata": {},
          "execution_count": 295
        }
      ]
    },
    {
      "cell_type": "code",
      "source": [
        "li2"
      ],
      "metadata": {
        "colab": {
          "base_uri": "https://localhost:8080/"
        },
        "id": "Cwo2xkoZFpWa",
        "outputId": "3a513c62-c56d-4f13-8120-27af3e748f8b"
      },
      "execution_count": null,
      "outputs": [
        {
          "output_type": "execute_result",
          "data": {
            "text/plain": [
              "['a', 'b', 'c']"
            ]
          },
          "metadata": {},
          "execution_count": 296
        }
      ]
    },
    {
      "cell_type": "code",
      "source": [
        "li_new = li1.copy() #copy kore rakhle li1 a pore  change korleo li_new te ager tai pabo, ekhane chnage hobe na\n",
        "#but li_new = li1 evabe assign korle li1 a chnage korle li_new teo chnage hoye jabe"
      ],
      "metadata": {
        "id": "Kc1dYWaAFpYp"
      },
      "execution_count": null,
      "outputs": []
    },
    {
      "cell_type": "code",
      "source": [
        "li_new"
      ],
      "metadata": {
        "colab": {
          "base_uri": "https://localhost:8080/"
        },
        "id": "tf5968wTHlCq",
        "outputId": "10feeb32-c9c8-4b08-d4db-a29a7769ccf4"
      },
      "execution_count": null,
      "outputs": [
        {
          "output_type": "execute_result",
          "data": {
            "text/plain": [
              "[1, 2, 3, 'ai']"
            ]
          },
          "metadata": {},
          "execution_count": 299
        }
      ]
    },
    {
      "cell_type": "code",
      "source": [
        ""
      ],
      "metadata": {
        "id": "bVNUB_fbHw0b"
      },
      "execution_count": null,
      "outputs": []
    },
    {
      "cell_type": "markdown",
      "source": [
        "#count() method"
      ],
      "metadata": {
        "id": "kij6rk_MHx6b"
      }
    },
    {
      "cell_type": "code",
      "source": [
        "flower = ['Tulip','Cherry blossom' ,'Daffodil', 'Cherry blossom','Bluebell', 'Cherry blossom','Rose', 'Snowdrop', 'Cherry blossom','Bluebell']"
      ],
      "metadata": {
        "id": "8AZSH9X9Hw3C"
      },
      "execution_count": null,
      "outputs": []
    },
    {
      "cell_type": "code",
      "source": [
        "flower.count('Cherry blossom')"
      ],
      "metadata": {
        "colab": {
          "base_uri": "https://localhost:8080/"
        },
        "id": "CQ_DEa0gHw54",
        "outputId": "81eeea5b-d880-479b-a181-5789fe79c8fc"
      },
      "execution_count": null,
      "outputs": [
        {
          "output_type": "execute_result",
          "data": {
            "text/plain": [
              "4"
            ]
          },
          "metadata": {},
          "execution_count": 303
        }
      ]
    },
    {
      "cell_type": "code",
      "source": [
        ""
      ],
      "metadata": {
        "id": "zGVo1KK0Hw_u"
      },
      "execution_count": null,
      "outputs": []
    },
    {
      "cell_type": "markdown",
      "source": [
        "#clear() method"
      ],
      "metadata": {
        "id": "ZXMpVqnNJEZ8"
      }
    },
    {
      "cell_type": "code",
      "source": [
        "flower"
      ],
      "metadata": {
        "colab": {
          "base_uri": "https://localhost:8080/"
        },
        "id": "9wTxLMY7JHdg",
        "outputId": "db731c31-57af-4f62-b114-515907f9ff9e"
      },
      "execution_count": null,
      "outputs": [
        {
          "output_type": "execute_result",
          "data": {
            "text/plain": [
              "['Tulip',\n",
              " 'Cherry blossom',\n",
              " 'Daffodil',\n",
              " 'Cherry blossom',\n",
              " 'Bluebell',\n",
              " 'Cherry blossom',\n",
              " 'Rose',\n",
              " 'Snowdrop',\n",
              " 'Cherry blossom',\n",
              " 'Bluebell']"
            ]
          },
          "metadata": {},
          "execution_count": 304
        }
      ]
    },
    {
      "cell_type": "code",
      "source": [
        "flower.clear()"
      ],
      "metadata": {
        "id": "QYLWRkAJJHgH"
      },
      "execution_count": null,
      "outputs": []
    },
    {
      "cell_type": "code",
      "source": [
        "flower"
      ],
      "metadata": {
        "colab": {
          "base_uri": "https://localhost:8080/"
        },
        "id": "fyBe339hJO47",
        "outputId": "381b91a9-6bd8-4b73-91c3-07a19f9882d9"
      },
      "execution_count": null,
      "outputs": [
        {
          "output_type": "execute_result",
          "data": {
            "text/plain": [
              "[]"
            ]
          },
          "metadata": {},
          "execution_count": 306
        }
      ]
    },
    {
      "cell_type": "code",
      "source": [
        ""
      ],
      "metadata": {
        "id": "xrc-1RxBJSho"
      },
      "execution_count": null,
      "outputs": []
    },
    {
      "cell_type": "markdown",
      "source": [
        "#List Comprehension"
      ],
      "metadata": {
        "id": "0Tv5QL4e__40"
      }
    },
    {
      "cell_type": "markdown",
      "source": [
        "for creating list based on sequence python privides a technique called List comprehension, that let us do it  in just one line"
      ],
      "metadata": {
        "id": "fBzegFV9AMgE"
      }
    },
    {
      "cell_type": "code",
      "source": [
        "multiples = [x*7 for x in range(1,11)]\n",
        "multiples"
      ],
      "metadata": {
        "colab": {
          "base_uri": "https://localhost:8080/"
        },
        "id": "A9g4m8-c11x4",
        "outputId": "c726cbc2-557c-4ef3-9639-d340e75b1f9b"
      },
      "execution_count": null,
      "outputs": [
        {
          "output_type": "execute_result",
          "data": {
            "text/plain": [
              "[7, 14, 21, 28, 35, 42, 49, 56, 63, 70]"
            ]
          },
          "metadata": {},
          "execution_count": 282
        }
      ]
    },
    {
      "cell_type": "markdown",
      "source": [
        "we can use this technique whenever we want to create a list based on a range, or based on the contents of a list a tuple a string or any other python sequence\n"
      ],
      "metadata": {
        "id": "7YqMYpV4BRH1"
      }
    },
    {
      "cell_type": "markdown",
      "source": [
        "say, we have a list of strings with the names of programing languages like C, C++, Python, Rubi, Go, \n",
        "\n",
        "and we want to generate a list of the length of the strings, we could iterate over the list and add them, or we can use a list comprehension"
      ],
      "metadata": {
        "id": "hEYcIchhCA5M"
      }
    },
    {
      "cell_type": "code",
      "source": [
        "# list comprehension\n",
        "languages = ['Python', 'Rubi','C++','Go','Java','C']\n",
        "lengths = [len(language) for language in languages]\n",
        "lengths"
      ],
      "metadata": {
        "colab": {
          "base_uri": "https://localhost:8080/"
        },
        "id": "C79wi8qj0iPN",
        "outputId": "baeedc37-5806-4b65-80e5-dce5e5ec9161"
      },
      "execution_count": null,
      "outputs": [
        {
          "output_type": "execute_result",
          "data": {
            "text/plain": [
              "[6, 4, 3, 2, 4, 1]"
            ]
          },
          "metadata": {},
          "execution_count": 284
        }
      ]
    },
    {
      "cell_type": "markdown",
      "source": [
        "List comprehension also let us use a conditional clause\n",
        "\n",
        "say, we want all the numbers  that are divisible by 3 in range 0 and 100\n",
        "\n"
      ],
      "metadata": {
        "id": "qkX0295BDcX3"
      }
    },
    {
      "cell_type": "code",
      "source": [
        "div_by_3 = [x for x in range(1,40) if x%3 == 0]"
      ],
      "metadata": {
        "id": "DTjMrOrH0iSG"
      },
      "execution_count": null,
      "outputs": []
    },
    {
      "cell_type": "code",
      "source": [
        "div_by_3"
      ],
      "metadata": {
        "colab": {
          "base_uri": "https://localhost:8080/"
        },
        "id": "P5XyYfcB0iUt",
        "outputId": "9403ae07-b19e-4de8-fd45-a9e10d0cab2f"
      },
      "execution_count": null,
      "outputs": [
        {
          "output_type": "execute_result",
          "data": {
            "text/plain": [
              "[3, 6, 9, 12, 15, 18, 21, 24, 27, 30, 33, 36, 39]"
            ]
          },
          "metadata": {},
          "execution_count": 292
        }
      ]
    },
    {
      "cell_type": "code",
      "source": [
        ""
      ],
      "metadata": {
        "id": "PmP6hQSXErX7"
      },
      "execution_count": null,
      "outputs": []
    },
    {
      "cell_type": "markdown",
      "source": [
        ""
      ],
      "metadata": {
        "id": "21nrjdItJBWr"
      }
    },
    {
      "cell_type": "markdown",
      "source": [
        " "
      ],
      "metadata": {
        "id": "i33lOzwyJihb"
      }
    },
    {
      "cell_type": "code",
      "source": [
        "#   "
      ],
      "metadata": {
        "id": "dJiHlTg1JglL"
      },
      "execution_count": null,
      "outputs": []
    },
    {
      "cell_type": "code",
      "source": [
        ""
      ],
      "metadata": {
        "id": "pwjpm5IeJhrj"
      },
      "execution_count": null,
      "outputs": []
    }
  ]
}