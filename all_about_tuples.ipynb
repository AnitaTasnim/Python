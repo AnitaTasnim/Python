{
  "nbformat": 4,
  "nbformat_minor": 0,
  "metadata": {
    "colab": {
      "name": "all about tuples.ipynb",
      "provenance": [],
      "collapsed_sections": [
        "FpzovC4CnpnK",
        "AHvwei7cpIQw",
        "qG-ZILpJpe-t",
        "LCNGpX5HYmRy",
        "FrQ1QWZYbuzv",
        "ynzLw8Ekbq-1"
      ]
    },
    "kernelspec": {
      "name": "python3",
      "display_name": "Python 3"
    },
    "language_info": {
      "name": "python"
    }
  },
  "cells": [
    {
      "cell_type": "markdown",
      "source": [
        "#Tuple in Python\n"
      ],
      "metadata": {
        "id": "FpzovC4CnpnK"
      }
    },
    {
      "cell_type": "markdown",
      "source": [
        "Tuples - Sequences of elements of any type, and are mutable"
      ],
      "metadata": {
        "id": "yGrGNGcpP4Kw"
      }
    },
    {
      "cell_type": "code",
      "source": [
        "tup = ()\n"
      ],
      "metadata": {
        "id": "EjZ8tE3umByZ"
      },
      "execution_count": null,
      "outputs": []
    },
    {
      "cell_type": "code",
      "source": [
        "tup"
      ],
      "metadata": {
        "colab": {
          "base_uri": "https://localhost:8080/"
        },
        "id": "GdlBzglmnuvh",
        "outputId": "b7323d74-3a0b-4bc4-e2ce-398fc96c2b63"
      },
      "execution_count": null,
      "outputs": [
        {
          "output_type": "execute_result",
          "data": {
            "text/plain": [
              "()"
            ]
          },
          "metadata": {},
          "execution_count": 2
        }
      ]
    },
    {
      "cell_type": "code",
      "source": [
        "type(tup)"
      ],
      "metadata": {
        "colab": {
          "base_uri": "https://localhost:8080/"
        },
        "id": "rwmMjLTWnvaA",
        "outputId": "62ec4afd-cb59-450f-eaa8-ff2c38261b7c"
      },
      "execution_count": null,
      "outputs": [
        {
          "output_type": "execute_result",
          "data": {
            "text/plain": [
              "tuple"
            ]
          },
          "metadata": {},
          "execution_count": 3
        }
      ]
    },
    {
      "cell_type": "code",
      "source": [
        "tup1 = (1,3,4,545,546,{},[12,2],(3,4,5,6),'ai','ds')"
      ],
      "metadata": {
        "id": "0bpvc76vnxVg"
      },
      "execution_count": null,
      "outputs": []
    },
    {
      "cell_type": "code",
      "source": [
        "tup1"
      ],
      "metadata": {
        "colab": {
          "base_uri": "https://localhost:8080/"
        },
        "id": "2QnLJl9kn5Dp",
        "outputId": "ba528ace-9c26-4d82-89e3-ab01aebc6708"
      },
      "execution_count": null,
      "outputs": [
        {
          "output_type": "execute_result",
          "data": {
            "text/plain": [
              "(1, 3, 4, 545, 546, {}, [12, 2], (3, 4, 5, 6), 'ai', 'ds')"
            ]
          },
          "metadata": {},
          "execution_count": 5
        }
      ]
    },
    {
      "cell_type": "code",
      "source": [
        "tup1[3]"
      ],
      "metadata": {
        "colab": {
          "base_uri": "https://localhost:8080/"
        },
        "id": "H0Weidvcn5qX",
        "outputId": "9fe7ce84-3dd5-4dc3-cab2-605752dbcd5f"
      },
      "execution_count": null,
      "outputs": [
        {
          "output_type": "execute_result",
          "data": {
            "text/plain": [
              "545"
            ]
          },
          "metadata": {},
          "execution_count": 6
        }
      ]
    },
    {
      "cell_type": "code",
      "source": [
        "tup1[0:2]"
      ],
      "metadata": {
        "colab": {
          "base_uri": "https://localhost:8080/"
        },
        "id": "Q0YLtxTQn6YF",
        "outputId": "90261155-b0fb-40f9-c809-62ef10f5ade1"
      },
      "execution_count": null,
      "outputs": [
        {
          "output_type": "execute_result",
          "data": {
            "text/plain": [
              "(1, 3)"
            ]
          },
          "metadata": {},
          "execution_count": 9
        }
      ]
    },
    {
      "cell_type": "code",
      "source": [
        "tup1[4:]"
      ],
      "metadata": {
        "colab": {
          "base_uri": "https://localhost:8080/"
        },
        "id": "Zzb_ZgDhQac1",
        "outputId": "354e2911-e69e-42c2-818e-93997d89dc88"
      },
      "execution_count": null,
      "outputs": [
        {
          "output_type": "execute_result",
          "data": {
            "text/plain": [
              "(546, {}, [12, 2], (3, 4, 5, 6), 'ai', 'ds')"
            ]
          },
          "metadata": {},
          "execution_count": 28
        }
      ]
    },
    {
      "cell_type": "code",
      "source": [
        "tup1[:7]"
      ],
      "metadata": {
        "colab": {
          "base_uri": "https://localhost:8080/"
        },
        "id": "l5drsEIiQalU",
        "outputId": "53997ec7-898f-4919-b2f3-0599ff9f37c5"
      },
      "execution_count": null,
      "outputs": [
        {
          "output_type": "execute_result",
          "data": {
            "text/plain": [
              "(1, 3, 4, 545, 546, {}, [12, 2])"
            ]
          },
          "metadata": {},
          "execution_count": 29
        }
      ]
    },
    {
      "cell_type": "code",
      "source": [
        "tup = ('Anita')"
      ],
      "metadata": {
        "id": "mrb_tjZkn6Z3"
      },
      "execution_count": null,
      "outputs": []
    },
    {
      "cell_type": "code",
      "source": [
        "type(tup)"
      ],
      "metadata": {
        "colab": {
          "base_uri": "https://localhost:8080/"
        },
        "id": "H7dNWXfdn6b6",
        "outputId": "6ae7ea03-9929-4827-99e2-ee0590c8a5bc"
      },
      "execution_count": null,
      "outputs": [
        {
          "output_type": "execute_result",
          "data": {
            "text/plain": [
              "str"
            ]
          },
          "metadata": {},
          "execution_count": 11
        }
      ]
    },
    {
      "cell_type": "code",
      "source": [
        "tup = ('Anita',)"
      ],
      "metadata": {
        "id": "2YIuEt2Vn6dr"
      },
      "execution_count": null,
      "outputs": []
    },
    {
      "cell_type": "code",
      "source": [
        "tup"
      ],
      "metadata": {
        "colab": {
          "base_uri": "https://localhost:8080/"
        },
        "id": "I-13PqzSn6fp",
        "outputId": "faff3724-5b4a-45b4-f041-157de1e267e3"
      },
      "execution_count": null,
      "outputs": [
        {
          "output_type": "execute_result",
          "data": {
            "text/plain": [
              "('Anita',)"
            ]
          },
          "metadata": {},
          "execution_count": 13
        }
      ]
    },
    {
      "cell_type": "code",
      "source": [
        "tup[0]"
      ],
      "metadata": {
        "colab": {
          "base_uri": "https://localhost:8080/",
          "height": 35
        },
        "id": "xTIup0jNn6hh",
        "outputId": "6ffde788-1b0e-4447-90d6-649697f79367"
      },
      "execution_count": null,
      "outputs": [
        {
          "output_type": "execute_result",
          "data": {
            "text/plain": [
              "'Anita'"
            ],
            "application/vnd.google.colaboratory.intrinsic+json": {
              "type": "string"
            }
          },
          "metadata": {},
          "execution_count": 14
        }
      ]
    },
    {
      "cell_type": "code",
      "source": [
        "l = list(tup)"
      ],
      "metadata": {
        "id": "EHkVpvSDn6jX"
      },
      "execution_count": null,
      "outputs": []
    },
    {
      "cell_type": "code",
      "source": [
        "l"
      ],
      "metadata": {
        "colab": {
          "base_uri": "https://localhost:8080/"
        },
        "id": "Ms4N8sNfn6lc",
        "outputId": "4041c74b-33e5-45f6-9759-1df76dd87a44"
      },
      "execution_count": null,
      "outputs": [
        {
          "output_type": "execute_result",
          "data": {
            "text/plain": [
              "['Anita']"
            ]
          },
          "metadata": {},
          "execution_count": 16
        }
      ]
    },
    {
      "cell_type": "code",
      "source": [
        "tup"
      ],
      "metadata": {
        "colab": {
          "base_uri": "https://localhost:8080/"
        },
        "id": "iRGVVOvvn6nT",
        "outputId": "c252e753-d02d-401f-ec36-2c9aedbcde04"
      },
      "execution_count": null,
      "outputs": [
        {
          "output_type": "execute_result",
          "data": {
            "text/plain": [
              "('Anita',)"
            ]
          },
          "metadata": {},
          "execution_count": 17
        }
      ]
    },
    {
      "cell_type": "code",
      "source": [
        "list1 = ['ai','ds',100,98]\n",
        "up1 = tuple(list1)"
      ],
      "metadata": {
        "id": "rHbB9m2Ln6pV"
      },
      "execution_count": null,
      "outputs": []
    },
    {
      "cell_type": "code",
      "source": [
        "tup1"
      ],
      "metadata": {
        "colab": {
          "base_uri": "https://localhost:8080/"
        },
        "id": "r78F9IBnn6rS",
        "outputId": "5761db01-d1cf-4d70-b9cb-099fc0af81cf"
      },
      "execution_count": null,
      "outputs": [
        {
          "output_type": "execute_result",
          "data": {
            "text/plain": [
              "(1, 3, 4, 545, 546, {}, [12, 2], (3, 4, 5, 6), 'ai', 'ds')"
            ]
          },
          "metadata": {},
          "execution_count": 19
        }
      ]
    },
    {
      "cell_type": "code",
      "source": [
        "tup+tup1"
      ],
      "metadata": {
        "colab": {
          "base_uri": "https://localhost:8080/"
        },
        "id": "TsIHYPE5n6tK",
        "outputId": "46ddc57c-8856-4812-fe44-033210ec3c9d"
      },
      "execution_count": null,
      "outputs": [
        {
          "output_type": "execute_result",
          "data": {
            "text/plain": [
              "('Anita', 1, 3, 4, 545, 546, {}, [12, 2], (3, 4, 5, 6), 'ai', 'ds')"
            ]
          },
          "metadata": {},
          "execution_count": 20
        }
      ]
    },
    {
      "cell_type": "code",
      "source": [
        "tup*6"
      ],
      "metadata": {
        "colab": {
          "base_uri": "https://localhost:8080/"
        },
        "id": "5BHERnTfn6vw",
        "outputId": "1d89de61-8191-46bf-d72c-ad1f94ab0e1d"
      },
      "execution_count": null,
      "outputs": [
        {
          "output_type": "execute_result",
          "data": {
            "text/plain": [
              "('Anita', 'Anita', 'Anita', 'Anita', 'Anita', 'Anita')"
            ]
          },
          "metadata": {},
          "execution_count": 21
        }
      ]
    },
    {
      "cell_type": "code",
      "source": [
        ""
      ],
      "metadata": {
        "id": "SzfmAqL8n6xj"
      },
      "execution_count": null,
      "outputs": []
    },
    {
      "cell_type": "markdown",
      "source": [
        "#*Methods* in Tuple\n",
        "\n"
      ],
      "metadata": {
        "id": "AHvwei7cpIQw"
      }
    },
    {
      "cell_type": "code",
      "source": [
        "tup2 = tup1*4"
      ],
      "metadata": {
        "id": "-dbEwgzln6zW"
      },
      "execution_count": null,
      "outputs": []
    },
    {
      "cell_type": "code",
      "source": [
        "tup2.count(3)"
      ],
      "metadata": {
        "colab": {
          "base_uri": "https://localhost:8080/"
        },
        "id": "IV56NwDwpXK5",
        "outputId": "fa335c8d-5739-43c6-a70c-0c8d7782b974"
      },
      "execution_count": null,
      "outputs": [
        {
          "output_type": "execute_result",
          "data": {
            "text/plain": [
              "4"
            ]
          },
          "metadata": {},
          "execution_count": 23
        }
      ]
    },
    {
      "cell_type": "markdown",
      "source": [
        "#Membership"
      ],
      "metadata": {
        "id": "qG-ZILpJpe-t"
      }
    },
    {
      "cell_type": "code",
      "source": [
        "3 in tup2"
      ],
      "metadata": {
        "colab": {
          "base_uri": "https://localhost:8080/"
        },
        "id": "o65Be_W4pcpJ",
        "outputId": "c3109914-a03c-40d4-b20e-06c22a3fa78b"
      },
      "execution_count": null,
      "outputs": [
        {
          "output_type": "execute_result",
          "data": {
            "text/plain": [
              "True"
            ]
          },
          "metadata": {},
          "execution_count": 24
        }
      ]
    },
    {
      "cell_type": "code",
      "source": [
        "100 in tup2"
      ],
      "metadata": {
        "colab": {
          "base_uri": "https://localhost:8080/"
        },
        "id": "2-6M3X-Jpjvg",
        "outputId": "0ed6ff58-3119-4f31-eeaa-060bd784bd78"
      },
      "execution_count": null,
      "outputs": [
        {
          "output_type": "execute_result",
          "data": {
            "text/plain": [
              "False"
            ]
          },
          "metadata": {},
          "execution_count": 25
        }
      ]
    },
    {
      "cell_type": "code",
      "source": [
        "del tup"
      ],
      "metadata": {
        "id": "4PPyvQn6pmG_"
      },
      "execution_count": null,
      "outputs": []
    },
    {
      "cell_type": "code",
      "source": [
        "tup"
      ],
      "metadata": {
        "colab": {
          "base_uri": "https://localhost:8080/",
          "height": 165
        },
        "id": "OdVTrkJspo6Q",
        "outputId": "4562d091-6d0a-4ac5-814a-ce1bf65bfa52"
      },
      "execution_count": null,
      "outputs": [
        {
          "output_type": "error",
          "ename": "NameError",
          "evalue": "ignored",
          "traceback": [
            "\u001b[0;31m---------------------------------------------------------------------------\u001b[0m",
            "\u001b[0;31mNameError\u001b[0m                                 Traceback (most recent call last)",
            "\u001b[0;32m<ipython-input-27-95b80b2375ef>\u001b[0m in \u001b[0;36m<module>\u001b[0;34m()\u001b[0m\n\u001b[0;32m----> 1\u001b[0;31m \u001b[0mtup\u001b[0m\u001b[0;34m\u001b[0m\u001b[0;34m\u001b[0m\u001b[0m\n\u001b[0m",
            "\u001b[0;31mNameError\u001b[0m: name 'tup' is not defined"
          ]
        }
      ]
    },
    {
      "cell_type": "code",
      "source": [
        "#'tuple' object does not support item assignment\n",
        "# 'tuple' object doesn't support item deletion"
      ],
      "metadata": {
        "id": "KtRufJF5pqGS"
      },
      "execution_count": null,
      "outputs": []
    },
    {
      "cell_type": "code",
      "source": [
        ""
      ],
      "metadata": {
        "id": "AdHB_eQmp25B"
      },
      "execution_count": null,
      "outputs": []
    },
    {
      "cell_type": "markdown",
      "source": [
        "#why need Tuple"
      ],
      "metadata": {
        "id": "LCNGpX5HYmRy"
      }
    },
    {
      "cell_type": "markdown",
      "source": [
        "why do you need tuple? we have lists!\n",
        "\n",
        "-- Lists are great. they can hold any  number of elements of any type and we can add ,remove and modify their contents as much as we want , but there're cases when we want to make sure an element in a certain position or index refers to one sepcific thing and won't change. in this situation we need Tuples.\n"
      ],
      "metadata": {
        "id": "NQ3rsRWDXumt"
      }
    },
    {
      "cell_type": "markdown",
      "source": [
        "lets see an example. why we need Tuples...."
      ],
      "metadata": {
        "id": "uqwNlEw1ZAEg"
      }
    },
    {
      "cell_type": "code",
      "source": [
        "fullname = ('Anita', 'Tasnim', 'Proma')\n",
        "#here, the first elemnt of this tuple is the first name\n",
        "#      the second element of this tuple is second name\n",
        "#      the third element of this tuple is third name\n",
        "# tuple a modifying isn't allowed, so erkm fixed case a tuple use korte hoy."
      ],
      "metadata": {
        "id": "YoXWQ9F0Y_AC"
      },
      "execution_count": null,
      "outputs": []
    },
    {
      "cell_type": "markdown",
      "source": [
        "**When using Tuples the position of the elemnets inside the tuple have meaning.**\n"
      ],
      "metadata": {
        "id": "FV3G23KFZyby"
      }
    },
    {
      "cell_type": "code",
      "source": [
        ""
      ],
      "metadata": {
        "id": "fIIagxL1ZxEn"
      },
      "execution_count": null,
      "outputs": []
    },
    {
      "cell_type": "markdown",
      "source": [
        "#unpacking"
      ],
      "metadata": {
        "id": "FrQ1QWZYbuzv"
      }
    },
    {
      "cell_type": "markdown",
      "source": [
        "\n",
        "**One interesting thing we can do with tuples is unpack them**\n",
        "\n",
        "This means we can turn a tuple of three elements into three separate variables and because the order won't change, we know wha those variables are present."
      ],
      "metadata": {
        "id": "N7wE9kepaRLu"
      }
    },
    {
      "cell_type": "code",
      "source": [
        "first_name, second_name, last_name = fullname"
      ],
      "metadata": {
        "id": "f2rXxpkGZxHL"
      },
      "execution_count": null,
      "outputs": []
    },
    {
      "cell_type": "code",
      "source": [
        "print('First Name - ', first_name)\n",
        "print('Second Name - ', second_name)\n",
        "print('Last Name - ', last_name)"
      ],
      "metadata": {
        "colab": {
          "base_uri": "https://localhost:8080/"
        },
        "id": "fdrp2NMbZxKR",
        "outputId": "65b92382-a2d1-40a9-b66d-df5a1348eeaf"
      },
      "execution_count": null,
      "outputs": [
        {
          "output_type": "stream",
          "name": "stdout",
          "text": [
            "First Name -  Anita\n",
            "Second Name -  Tasnim\n",
            "Last Name -  Proma\n"
          ]
        }
      ]
    },
    {
      "cell_type": "code",
      "source": [
        "#we can do this with list also\n",
        "lisT = [1,2,3]\n",
        "a,b,c = lisT"
      ],
      "metadata": {
        "id": "1J7VkxTlbKcU"
      },
      "execution_count": null,
      "outputs": []
    },
    {
      "cell_type": "code",
      "source": [
        "a"
      ],
      "metadata": {
        "colab": {
          "base_uri": "https://localhost:8080/"
        },
        "id": "AarktFc0bVvs",
        "outputId": "c55e4842-706e-4cfd-e027-6bc235694e7b"
      },
      "execution_count": null,
      "outputs": [
        {
          "output_type": "execute_result",
          "data": {
            "text/plain": [
              "1"
            ]
          },
          "metadata": {},
          "execution_count": 6
        }
      ]
    },
    {
      "cell_type": "code",
      "source": [
        "b"
      ],
      "metadata": {
        "colab": {
          "base_uri": "https://localhost:8080/"
        },
        "id": "pz_zA_AqbWtL",
        "outputId": "b83ddae7-9255-4ca5-a386-5f63f49fd725"
      },
      "execution_count": null,
      "outputs": [
        {
          "output_type": "execute_result",
          "data": {
            "text/plain": [
              "2"
            ]
          },
          "metadata": {},
          "execution_count": 7
        }
      ]
    },
    {
      "cell_type": "code",
      "source": [
        "c"
      ],
      "metadata": {
        "colab": {
          "base_uri": "https://localhost:8080/"
        },
        "id": "R22Q4kJQbW68",
        "outputId": "2a66bb41-86f3-4dad-de69-917d40b58cd0"
      },
      "execution_count": null,
      "outputs": [
        {
          "output_type": "execute_result",
          "data": {
            "text/plain": [
              "3"
            ]
          },
          "metadata": {},
          "execution_count": 8
        }
      ]
    },
    {
      "cell_type": "code",
      "source": [
        ""
      ],
      "metadata": {
        "id": "njOcp3M6bXLz"
      },
      "execution_count": null,
      "outputs": []
    },
    {
      "cell_type": "markdown",
      "source": [
        "#one_example"
      ],
      "metadata": {
        "id": "ynzLw8Ekbq-1"
      }
    },
    {
      "cell_type": "markdown",
      "source": [
        "one common example is the return value of functios, when a function returns more than one value, it's actually returnng a tuple"
      ],
      "metadata": {
        "id": "uZTjQZTojG_t"
      }
    },
    {
      "cell_type": "code",
      "source": [
        "#this function returns three values\n",
        "def convert_seconds(seconds):\n",
        "    hours = seconds//3600\n",
        "    minutes = (seconds - (hours * 3600)) // 60\n",
        "    remaining_seconds = seconds - (hours*3600) - (minutes*60)\n",
        "    return hours, minutes, remaining_seconds\n",
        "\n",
        "result = convert_seconds(5000)\n",
        "#this function returns a tuple of three elemnts"
      ],
      "metadata": {
        "id": "ceEfhd7rb280"
      },
      "execution_count": null,
      "outputs": []
    },
    {
      "cell_type": "code",
      "source": [
        "type(result)"
      ],
      "metadata": {
        "colab": {
          "base_uri": "https://localhost:8080/"
        },
        "id": "kenwbEbhh8jt",
        "outputId": "d6aab0d2-a4f8-474d-8fe9-5e5d5869ed8c"
      },
      "execution_count": null,
      "outputs": [
        {
          "output_type": "execute_result",
          "data": {
            "text/plain": [
              "tuple"
            ]
          },
          "metadata": {},
          "execution_count": 11
        }
      ]
    },
    {
      "cell_type": "code",
      "source": [
        "result"
      ],
      "metadata": {
        "colab": {
          "base_uri": "https://localhost:8080/"
        },
        "id": "A7vvZTzzi9EB",
        "outputId": "4be239ce-e2a2-460d-b469-f8a603d406d4"
      },
      "execution_count": null,
      "outputs": [
        {
          "output_type": "execute_result",
          "data": {
            "text/plain": [
              "(1, 23, 20)"
            ]
          },
          "metadata": {},
          "execution_count": 12
        }
      ]
    },
    {
      "cell_type": "markdown",
      "source": [
        "remeber since this is a tuple, the order matters.\n",
        "- the first element represent hours\n",
        "- the second elemnt represent min\n",
        "- the third element represents seconds"
      ],
      "metadata": {
        "id": "pu3ll1-Ojo92"
      }
    },
    {
      "cell_type": "code",
      "source": [
        ""
      ],
      "metadata": {
        "id": "OkYwmgp3jl_C"
      },
      "execution_count": null,
      "outputs": []
    },
    {
      "cell_type": "markdown",
      "source": [
        "#another example containg list of  tuples"
      ],
      "metadata": {
        "id": "OwuZ6DPIk6Ei"
      }
    },
    {
      "cell_type": "markdown",
      "source": [
        ""
      ],
      "metadata": {
        "id": "HjAaW0O-lX9H"
      }
    },
    {
      "cell_type": "code",
      "source": [
        "#people = [('anita@gmail.com','anita'),('hasib@gmail.com','hasib'),('proma@gmail.com','proma'),('nuha@gmail.com','nuha')]\n",
        "\n",
        "def full_emails(people):    #people is  a list of tuples, first element is the email address, the second elemnt is the full name\n",
        "# actually this list contains tuples of two strings\n",
        "    result = [] #return value, which is a list\n",
        "\n",
        "    for email,name in people:  # we'll unpack the values directly when iterating in variables that we call email and name\n",
        "        result.append('{}<{}>'.format(name,email))  #our result varibale is a list and it should contain strings, \n",
        "    return result\n",
        "\n",
        "\n"
      ],
      "metadata": {
        "id": "dtXq03wXlDcY"
      },
      "execution_count": null,
      "outputs": []
    },
    {
      "cell_type": "code",
      "source": [
        "#peple list create korci\n",
        "list_len = int(input('input a number: '))\n",
        "people = []\n",
        "for x in range(list_len):\n",
        "    peo_list = []\n",
        "    \n",
        "    mail = input('input a mail : ')\n",
        "    name = input('input a name : ')\n",
        "    peo_list.append(mail)\n",
        "    peo_list.append(name)\n",
        "    # first a list of lists craete korechilam\n",
        "    peo_tuple = tuple(peo_list) # list k tuple a convert korci, as tuple append korte pari na, tai list kore niye pore tuple a anlam\n",
        "\n",
        "    people.append(peo_tuple) # now list of tuples hoye gelo,  \n",
        "\n",
        "\n",
        "full_emails(people) # call the function"
      ],
      "metadata": {
        "colab": {
          "base_uri": "https://localhost:8080/"
        },
        "id": "R_s3hrvylOhL",
        "outputId": "b96749a0-ba72-4270-fd4f-2fe36ac465cf"
      },
      "execution_count": null,
      "outputs": [
        {
          "name": "stdout",
          "output_type": "stream",
          "text": [
            "input a number: 2\n",
            "input a mail : anita@gmail.com\n",
            "input a name : anita\n",
            "input a mail : proma@yahoo.com\n",
            "input a name : proma\n"
          ]
        },
        {
          "output_type": "execute_result",
          "data": {
            "text/plain": [
              "['anita<anita@gmail.com>', 'proma<proma@yahoo.com>']"
            ]
          },
          "metadata": {},
          "execution_count": 16
        }
      ]
    },
    {
      "cell_type": "code",
      "source": [
        ""
      ],
      "metadata": {
        "id": "fGD_fmkDnVzW"
      },
      "execution_count": null,
      "outputs": []
    }
  ]
}